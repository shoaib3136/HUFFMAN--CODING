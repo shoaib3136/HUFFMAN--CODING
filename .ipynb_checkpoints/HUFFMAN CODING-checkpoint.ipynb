{
 "cells": [
  {
   "cell_type": "code",
   "execution_count": null,
   "id": "9471883d",
   "metadata": {},
   "outputs": [],
   "source": [
    "# Get the input String\n",
    "string ="
   ]
  },
  {
   "cell_type": "code",
   "execution_count": null,
   "id": "915ab35f",
   "metadata": {},
   "outputs": [],
   "source": [
    "# Create tree nodes\n",
    "class NodeTree(object):\n",
    "    \n",
    "    \n",
    "    \n",
    "    \n",
    "    \n",
    "    "
   ]
  },
  {
   "cell_type": "code",
   "execution_count": null,
   "id": "1c04c857",
   "metadata": {},
   "outputs": [],
   "source": [
    "# Main function to implement huffman coding\n",
    "def huffman_code_tree(node, left=True, binString=''):\n",
    "    \n",
    "    "
   ]
  },
  {
   "cell_type": "code",
   "execution_count": null,
   "id": "a74eefa0",
   "metadata": {},
   "outputs": [],
   "source": [
    "# Calculate frequency of occurrence\n",
    "freq = {}"
   ]
  },
  {
   "cell_type": "code",
   "execution_count": null,
   "id": "8498c31c",
   "metadata": {},
   "outputs": [],
   "source": [
    "# Print the characters and its huffmancode\n",
    "huffmanCode = huffman_code_tree(nodes[0][0])\n",
    "\n",
    "print(' Char | Huffman code ')"
   ]
  }
 ],
 "metadata": {
  "kernelspec": {
   "display_name": "Python 3 (ipykernel)",
   "language": "python",
   "name": "python3"
  },
  "language_info": {
   "codemirror_mode": {
    "name": "ipython",
    "version": 3
   },
   "file_extension": ".py",
   "mimetype": "text/x-python",
   "name": "python",
   "nbconvert_exporter": "python",
   "pygments_lexer": "ipython3",
   "version": "3.9.12"
  }
 },
 "nbformat": 4,
 "nbformat_minor": 5
}
