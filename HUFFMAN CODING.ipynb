{
 "cells": [
  {
   "cell_type": "code",
   "execution_count": 8,
   "id": "9471883d",
   "metadata": {},
   "outputs": [],
   "source": [
    "# Get the input String\n",
    "string =\"Shaik Shoaib Nawaz\""
   ]
  },
  {
   "cell_type": "code",
   "execution_count": 12,
   "id": "915ab35f",
   "metadata": {},
   "outputs": [],
   "source": [
    "# Create tree nodes\n",
    "class NodeTree(object):\n",
    "    def __init__(self, left=None, right=None): \n",
    "        self.left = left\n",
    "        self.right=right\n",
    "    def children(self):\n",
    "        return (self.left,self.right)\n",
    "    def nodes (self):\n",
    "        return (self.left,self.right)\n",
    "    def __str__(self):\n",
    "        return '%s %s' %(self.left,self.right)"
   ]
  },
  {
   "cell_type": "code",
   "execution_count": 14,
   "id": "1c04c857",
   "metadata": {},
   "outputs": [],
   "source": [
    "# Main function to implement huffman coding\n",
    "def huffman_code_tree (node, left=True, binString=''):\n",
    "    if type(node) is str:\n",
    "        return {node: binString}\n",
    "    (l, r) = node.children()\n",
    "    d = dict()\n",
    "    d.update(huffman_code_tree (l, True, binString + '0'))\n",
    "    d.update(huffman_code_tree (r, False, binString + '1'))\n",
    "    return d\n",
    "    \n",
    "    "
   ]
  },
  {
   "cell_type": "code",
   "execution_count": 16,
   "id": "a74eefa0",
   "metadata": {},
   "outputs": [],
   "source": [
    "# Calculate frequency of occurrence\n",
    "freq = {}\n",
    "for c in string:\n",
    "    if c in freq:\n",
    "        freq[c] += 1\n",
    "    else:\n",
    "        freq[c] = 1\n",
    "freq = sorted(freq.items(), key=lambda x: x[1], reverse=True)\n",
    "nodes=freq\n",
    "while len(nodes)>1:\n",
    "    (key1,c1)=nodes[-1]\n",
    "    (key2,c2)=nodes[-2]\n",
    "    nodes = nodes[:-2]\n",
    "    node = NodeTree (key1, key2)\n",
    "    nodes.append((node,c1 + c2))\n",
    "    nodes = sorted (nodes, key=lambda x: x[1], reverse=True)"
   ]
  },
  {
   "cell_type": "code",
   "execution_count": 18,
   "id": "8498c31c",
   "metadata": {},
   "outputs": [
    {
     "name": "stdout",
     "output_type": "stream",
     "text": [
      " Char | Huffman code \n",
      "----------------------\n",
      "'a' |          10\n",
      "'S' |         110\n",
      "'h' |        1111\n",
      "'i' |        1110\n",
      "' ' |         001\n",
      "'k' |        0101\n",
      "'o' |        0100\n",
      "'b' |        0111\n",
      "'N' |        0110\n",
      "'w' |        0001\n",
      "'z' |        0000\n"
     ]
    }
   ],
   "source": [
    "# Print the characters and its huffmancode\n",
    "huffmanCode=huffman_code_tree(nodes[0][0])\n",
    "print(' Char | Huffman code ') \n",
    "print('----------------------')\n",
    "for (char, frequency) in freq:\n",
    "    print('%-4r|%12s'%(char,huffmanCode[char]))\n"
   ]
  },
  {
   "cell_type": "code",
   "execution_count": null,
   "id": "56bf766f-66f9-465b-b93a-eeae6fd309e4",
   "metadata": {},
   "outputs": [],
   "source": []
  }
 ],
 "metadata": {
  "kernelspec": {
   "display_name": "Python 3 (ipykernel)",
   "language": "python",
   "name": "python3"
  },
  "language_info": {
   "codemirror_mode": {
    "name": "ipython",
    "version": 3
   },
   "file_extension": ".py",
   "mimetype": "text/x-python",
   "name": "python",
   "nbconvert_exporter": "python",
   "pygments_lexer": "ipython3",
   "version": "3.12.4"
  }
 },
 "nbformat": 4,
 "nbformat_minor": 5
}
